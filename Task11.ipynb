{
 "cells": [
  {
   "cell_type": "code",
   "execution_count": 131,
   "id": "d12af6df-6a41-45e8-8aca-ce275f0d4f83",
   "metadata": {
    "tags": []
   },
   "outputs": [],
   "source": [
    "import sys\n",
    "sys.path.append('/home/wangs/rs/lib')\n",
    "import ff\n",
    "import pickle\n",
    "import numpy as np\n",
    "import pandas as pd\n",
    "import seaborn as sns\n",
    "import matplotlib.pyplot as plt\n",
    "sns.set_style(\"whitegrid\")\n",
    "sns.set_palette(\"pastel\")\n",
    "from multiprocessing import Pool\n",
    "from tqdm import tqdm"
   ]
  },
  {
   "cell_type": "code",
   "execution_count": 2,
   "id": "c053a28f-6ce1-460f-8a9c-e1c8ed27e597",
   "metadata": {
    "tags": []
   },
   "outputs": [],
   "source": [
    "def init_worker(table):\n",
    "    global shared_table\n",
    "    shared_table = table"
   ]
  },
  {
   "cell_type": "code",
   "execution_count": 3,
   "id": "f7e982a0-b11c-4576-8aa5-4a03d8290480",
   "metadata": {
    "tags": []
   },
   "outputs": [],
   "source": [
    "def process_indicator(data, indicator_name):\n",
    "    # stack()：将列（股票ID）转为行，形成（时间, 股票ID）的二级索引\n",
    "    long_df = data.stack(dropna = True).reset_index()\n",
    "    # 重命名列：股票ID、时间、指标值\n",
    "    long_df.columns = ['stock_id', 'time', 'value']\n",
    "    # 添加指标类型列（如'post'、'high'）\n",
    "    long_df['indicator'] = indicator_name\n",
    "    return long_df"
   ]
  },
  {
   "cell_type": "code",
   "execution_count": 4,
   "id": "6cfd5f6a-63e5-4b28-840d-806123cedac5",
   "metadata": {
    "tags": []
   },
   "outputs": [],
   "source": [
    "post_data = ff.read('post') * ff.filter0\n",
    "high_data = ff.read('high') * post_data * ff.filter0\n",
    "low_data = ff.read('low') * post_data * ff.filter0\n",
    "close_data = ff.read('close') * post_data * ff.filter0\n",
    "open_data = ff.read('open') * post_data * ff.filter0\n",
    "next_uplimit_data = (ff.read('up_limit') * post_data * ff.filter0).shift(-1,axis = 1)\n",
    "next_open_data = (ff.read('open') * post_data * ff.filter0).shift(-1,axis = 1)\n",
    "vol_data = ff.read('vol') * ff.filter0\n",
    "\n",
    "df_vol = process_indicator(vol_data, 'vol')\n",
    "df_high = process_indicator(high_data, 'high')\n",
    "df_low = process_indicator(low_data, 'low')\n",
    "df_close = process_indicator(close_data, 'close')\n",
    "df_open = process_indicator(open_data, 'open')\n",
    "df_next_uplimit = process_indicator(next_uplimit_data, 'next_uplimit')\n",
    "df_next_open = process_indicator(next_open_data, 'next_open')\n",
    "\n",
    "long_table = pd.concat(\n",
    "    [df_high, df_low, df_close, df_open, df_next_uplimit,df_next_open,df_vol],\n",
    "    ignore_index=True\n",
    ")\n",
    "long_table['time'] = pd.to_datetime(long_table['time'])\n",
    "init_worker(long_table)"
   ]
  },
  {
   "cell_type": "code",
   "execution_count": 5,
   "id": "519cde18-5469-4107-b54e-971888da45ae",
   "metadata": {
    "tags": []
   },
   "outputs": [],
   "source": [
    "stock_list = long_table['stock_id'].unique().tolist()"
   ]
  },
  {
   "cell_type": "code",
   "execution_count": 6,
   "id": "08ace6e0-118a-458b-97e4-bfddb08aa0e0",
   "metadata": {
    "tags": []
   },
   "outputs": [],
   "source": [
    "def climax_find(df):\n",
    "    '''\n",
    "    找到局部极值点\n",
    "    ##输入：DataFrame index是日期 columns是high low open close\n",
    "    ##输出：DataFrame index是日期 columns是high low open close peak_high peak_low\n",
    "    # 创建peak列，默认值为NaN\n",
    "    '''\n",
    "    \n",
    "    df['peak_high'] = False\n",
    "    df['peak_low'] = False\n",
    "    \n",
    "    for i in range(len(df)):\n",
    "        # 确定查找范围（防止越界）\n",
    "        start = max(0, i - 1)\n",
    "        end = min(len(df), i + 2)\n",
    "        \n",
    "        # 使用loc通过标签索引列\n",
    "        current_high = df.loc[df.index[i], 'high']\n",
    "        range_highs = df.loc[df.index[start:end], 'high']\n",
    "        \n",
    "        # 判断当前是否为局部高点\n",
    "        if current_high == range_highs.max():\n",
    "            df.loc[df.index[i], 'peak_high'] = True\n",
    "            \n",
    "        # 判断当前是否为局部低点\n",
    "        current_low = df.loc[df.index[i], 'low']\n",
    "        range_lows = df.loc[df.index[start:end], 'low']\n",
    "        \n",
    "        if current_low == range_lows.min():\n",
    "            df.loc[df.index[i], 'peak_low'] = True\n",
    "    \n",
    "    return df"
   ]
  },
  {
   "cell_type": "code",
   "execution_count": 120,
   "id": "8a64b38b-bd3c-4d8c-acc1-791791b90785",
   "metadata": {
    "tags": []
   },
   "outputs": [],
   "source": [
    "def platform_find(df):\n",
    "    \"\"\"\n",
    "    查找价格平台（以当前K线为最新K线的平台高点）\n",
    "    \n",
    "    参数:\n",
    "    df (pd.DataFrame): 包含K线数据的DataFrame，索引可为任意类型，\n",
    "                      列包含'high', 'low', 'open', 'close', 'peak'\n",
    "    \n",
    "    返回:\n",
    "    pd.DataFrame: 添加了'platform'列的DataFrame，记录平台高点和平台长度\n",
    "    \"\"\"\n",
    "    # 创建platform列，默认值为NaN\n",
    "    df['platform_high'] = np.nan\n",
    "    df['platform_low'] = np.nan\n",
    "    df['platform_length'] = np.nan\n",
    "    df['platform_volatility_highlow'] = np.nan\n",
    "    df['platform_volatility_open'] = np.nan\n",
    "    df['average_vol'] = np.nan\n",
    "    df['vol_trend'] = np.nan\n",
    "    df['increase'] = np.nan\n",
    "    df['increase_validity'] = np.nan\n",
    "    df['daily_return'] = np.nan\n",
    "    \n",
    "    # 获取列的位置索引（确保兼容任意索引类型）\n",
    "    peakhigh_col = df.columns.get_loc('peak_high')\n",
    "    peaklow_col = df.columns.get_loc('peak_low')\n",
    "    low_col = df.columns.get_loc('low')\n",
    "    high_col = df.columns.get_loc('high')\n",
    "    \n",
    "    # 遍历每一行（从第1行开始，0-based索引）\n",
    "    for i in range(1, len(df)):\n",
    "        current_high_low = None  # 最近高点对应的低点\n",
    "        current_low_high = None  # 最近低点对应的高点\n",
    "        \n",
    "        # 向前查找（从i-1到0）\n",
    "        for j in range(i-1, -1, -1):\n",
    "            # 使用iloc按位置访问，避免索引类型问题\n",
    "            \n",
    "            if df.iloc[j,peakhigh_col]:\n",
    "                current_high_low = df.iloc[j, low_col]\n",
    "            if df.iloc[j,peaklow_col]:\n",
    "                current_low_high = df.iloc[j, high_col]\n",
    "            \n",
    "            # 当同时找到有效高点和低点，且满足高低点条件时\n",
    "            if (current_high_low is not None and \n",
    "                current_low_high is not None and \n",
    "                current_high_low < current_low_high):\n",
    "                \n",
    "                # 计算j到i区间内的最高值作为平台高点\n",
    "                platform_high = df.iloc[j:i, high_col].max()\n",
    "                platform_low = df.iloc[j:i, low_col].min()\n",
    "                df.iloc[i, df.columns.get_loc('platform_high')] = platform_high\n",
    "                df.iloc[i, df.columns.get_loc('platform_low')] = platform_low\n",
    "                df.iloc[i, df.columns.get_loc('platform_volatility_highlow')] = platform_high / platform_low - 1\n",
    "                df.iloc[i, df.columns.get_loc('platform_volatility_open')] = df.iloc[i - 1]['open'] / df.iloc[j]['open']\n",
    "                df.iloc[i, df.columns.get_loc('platform_length')] = i - j\n",
    "                df.iloc[i, df.columns.get_loc('average_vol')] = df.iloc[j:i]['vol'].mean()\n",
    "                df.iloc[i, df.columns.get_loc('vol_trend')] = df.iloc[(i + j - 1) // 2 + 1:i]['vol'].mean() / df.iloc[j:(i + j - 1) // 2]['vol'].mean()\n",
    "                df.iloc[i, df.columns.get_loc('increase')] = df.iloc[i]['close'] / df.iloc[i]['open']\n",
    "                df.iloc[i, df.columns.get_loc('increase_validity')] = df.iloc[i]['high'] / platform_high\n",
    "                try:\n",
    "                    daily_ret = (df.iloc[i + 2]['close'] - df.iloc[i + 1]['open']) / (2 * df.iloc[i + 1]['open'])    ##日均收益率\n",
    "                except:\n",
    "                    daily_ret = None\n",
    "                df.iloc[i, df.columns.get_loc('daily_return')] = daily_ret\n",
    "                break  # 找到平台后跳出内层循环\n",
    "    \n",
    "    return df"
   ]
  },
  {
   "cell_type": "code",
   "execution_count": 79,
   "id": "f68a7df2-c304-4017-ad3e-8e8b6335a34b",
   "metadata": {
    "tags": []
   },
   "outputs": [],
   "source": [
    "def stock_process(stock_id,start_date = '2020-01-01',end_date = '2025-07-20'):\n",
    "    ##输入：单只股票的DataFrame index:日期 columns：高开低收\n",
    "    ##输出：stock_id对应的所有连续突破信号df以及相关信息\n",
    "    df = shared_table[shared_table['stock_id'] == stock_id]\n",
    "    if df.empty:\n",
    "        return pd.DataFrame(columns=['time', 'stock_id','platform_length','platform_volatility_highlow',\n",
    "                                     'platform_volatility_open', 'vol_trend','vol_rate','increase','increase_validity'])\n",
    "    else:\n",
    "        stock_data = df.pivot(index='time',\n",
    "                            columns='indicator',\n",
    "                            values='value')\n",
    "        stock_data.index = pd.to_datetime(stock_data.index)\n",
    "        \n",
    "        stock_data = climax_find(stock_data)\n",
    "        stock_data = platform_find(stock_data)\n",
    "        \n",
    "        stock_data = stock_data[(stock_data.index >= start_date) & (stock_data.index <= end_date) & (stock_data['platform_length'].notna())]\n",
    "        stock_data['breakthrough'] = stock_data['high'] > stock_data['platform_high']\n",
    "        stock_data['vol_rate'] = stock_data['vol'] / stock_data['average_vol']\n",
    "        stock_data = stock_data[stock_data['next_uplimit'] != stock_data['next_open']]\n",
    "        result = stock_data[stock_data['breakthrough']]\n",
    "        result_df = pd.DataFrame({\n",
    "            'time': result.index,\n",
    "            'stock_id': stock_id,\n",
    "            'platform_length':result['platform_length'],\n",
    "            'platform_volatility_highlow':result['platform_volatility_highlow'],\n",
    "            'platform_volatility_open':result['platform_volatility_open'],\n",
    "            'vol_trend':result['vol_trend'],\n",
    "            'vol_rate':result['vol_rate'],\n",
    "            'increase':result['increase'],\n",
    "            'increase_validity':result['increase_validity'],\n",
    "            'daily_return':result['daily_return']\n",
    "        })\n",
    "        \n",
    "        return result_df.reset_index(drop = True)"
   ]
  },
  {
   "cell_type": "code",
   "execution_count": 151,
   "id": "c87a32ff-7765-495c-b0a4-581dd58d1472",
   "metadata": {
    "tags": []
   },
   "outputs": [
    {
     "name": "stderr",
     "output_type": "stream",
     "text": [
      "100%|███████████████████████████████████████████████████████████████████████| 5107/5107 [10:33<00:00,  8.06it/s]\n"
     ]
    }
   ],
   "source": [
    "with Pool(96, initializer = init_worker, initargs=(long_table,)) as p:\n",
    "    # 直接使用 stock_process，不需要 partial\n",
    "    res_lst = list(tqdm(p.imap(stock_process, stock_list), total = len(stock_list)))  ##一个list 元素是每支股票的所有信号\n",
    "\n",
    "final_df_1 = pd.concat(res_lst, ignore_index=True)"
   ]
  },
  {
   "cell_type": "code",
   "execution_count": 82,
   "id": "81315a98-08f8-430f-b7de-60e7594e3646",
   "metadata": {
    "tags": []
   },
   "outputs": [],
   "source": [
    "def select_stocks(group):\n",
    "    \"\"\"\n",
    "    对单个时间分组进行处理：\n",
    "    1. 筛选platform_volatility_open的前20%（小于等于20%分位数）\n",
    "    2. 从中选择increase_validity最小的10只股票\n",
    "    3. 返回包含这些股票ID的DataFrame，索引为该组的日期\n",
    "    \"\"\"\n",
    "    # 获取当前分组的日期（group是子DataFrame，time列值相同，取第一个即可）\n",
    "    current_date = group['time'].iloc[0]  # 正确提取分组日期\n",
    "    \n",
    "    # 1. 计算20%分位数并筛选前20%的股票\n",
    "    vol_threshold = group['platform_volatility_open'].quantile(0.2)\n",
    "    top20_vol = group[group['platform_volatility_open'] <= vol_threshold].copy()\n",
    "    \n",
    "    # 2. 按increase_validity升序排序，取最小的10只（不足10只则取全部）\n",
    "    selected = top20_vol.sort_values('increase_validity', ascending=True).head(10)\n",
    "    \n",
    "    # 3. 构建结果DataFrame：索引为日期，列为stock_id\n",
    "    result = pd.DataFrame({\n",
    "        'stock_id': selected['stock_id'],\n",
    "        'daily_return':selected['daily_return'],\n",
    "        'time': current_date  # 显式添加日期列\n",
    "    })\n",
    "    \n",
    "    # 设置日期为索引（保持一行一个股票ID）\n",
    "    result = result.set_index('time', drop=True)\n",
    "    return result\n",
    "\n",
    "# 使用方法\n",
    "grouped = final_df_1.groupby('time').apply(select_stocks)\n"
   ]
  },
  {
   "cell_type": "code",
   "execution_count": 85,
   "id": "10d8e8ab-0334-45a0-ab97-825197b13fb4",
   "metadata": {
    "tags": []
   },
   "outputs": [],
   "source": [
    "grouped = grouped.reset_index(level=1, drop=True)"
   ]
  },
  {
   "cell_type": "code",
   "execution_count": 126,
   "id": "faced6a2-455f-4d41-8802-66ef7874c1e5",
   "metadata": {
    "tags": []
   },
   "outputs": [
    {
     "data": {
      "text/html": [
       "<div>\n",
       "<style scoped>\n",
       "    .dataframe tbody tr th:only-of-type {\n",
       "        vertical-align: middle;\n",
       "    }\n",
       "\n",
       "    .dataframe tbody tr th {\n",
       "        vertical-align: top;\n",
       "    }\n",
       "\n",
       "    .dataframe thead th {\n",
       "        text-align: right;\n",
       "    }\n",
       "</style>\n",
       "<table border=\"1\" class=\"dataframe\">\n",
       "  <thead>\n",
       "    <tr style=\"text-align: right;\">\n",
       "      <th></th>\n",
       "      <th>stock_id</th>\n",
       "      <th>daily_return</th>\n",
       "    </tr>\n",
       "    <tr>\n",
       "      <th>time</th>\n",
       "      <th></th>\n",
       "      <th></th>\n",
       "    </tr>\n",
       "  </thead>\n",
       "  <tbody>\n",
       "    <tr>\n",
       "      <th>2020-01-02</th>\n",
       "      <td>002927.SZ</td>\n",
       "      <td>0.009564</td>\n",
       "    </tr>\n",
       "    <tr>\n",
       "      <th>2020-01-02</th>\n",
       "      <td>603991.SH</td>\n",
       "      <td>0.004300</td>\n",
       "    </tr>\n",
       "    <tr>\n",
       "      <th>2020-01-02</th>\n",
       "      <td>002793.SZ</td>\n",
       "      <td>-0.023776</td>\n",
       "    </tr>\n",
       "    <tr>\n",
       "      <th>2020-01-02</th>\n",
       "      <td>603329.SH</td>\n",
       "      <td>0.008168</td>\n",
       "    </tr>\n",
       "    <tr>\n",
       "      <th>2020-01-02</th>\n",
       "      <td>300504.SZ</td>\n",
       "      <td>0.010652</td>\n",
       "    </tr>\n",
       "    <tr>\n",
       "      <th>...</th>\n",
       "      <td>...</td>\n",
       "      <td>...</td>\n",
       "    </tr>\n",
       "    <tr>\n",
       "      <th>2025-07-18</th>\n",
       "      <td>603160.SH</td>\n",
       "      <td>0.013710</td>\n",
       "    </tr>\n",
       "    <tr>\n",
       "      <th>2025-07-18</th>\n",
       "      <td>603132.SH</td>\n",
       "      <td>0.009690</td>\n",
       "    </tr>\n",
       "    <tr>\n",
       "      <th>2025-07-18</th>\n",
       "      <td>300603.SZ</td>\n",
       "      <td>0.015678</td>\n",
       "    </tr>\n",
       "    <tr>\n",
       "      <th>2025-07-18</th>\n",
       "      <td>301567.SZ</td>\n",
       "      <td>0.002976</td>\n",
       "    </tr>\n",
       "    <tr>\n",
       "      <th>2025-07-18</th>\n",
       "      <td>688182.SH</td>\n",
       "      <td>0.001375</td>\n",
       "    </tr>\n",
       "  </tbody>\n",
       "</table>\n",
       "<p>13428 rows × 2 columns</p>\n",
       "</div>"
      ],
      "text/plain": [
       "             stock_id  daily_return\n",
       "time                               \n",
       "2020-01-02  002927.SZ      0.009564\n",
       "2020-01-02  603991.SH      0.004300\n",
       "2020-01-02  002793.SZ     -0.023776\n",
       "2020-01-02  603329.SH      0.008168\n",
       "2020-01-02  300504.SZ      0.010652\n",
       "...               ...           ...\n",
       "2025-07-18  603160.SH      0.013710\n",
       "2025-07-18  603132.SH      0.009690\n",
       "2025-07-18  300603.SZ      0.015678\n",
       "2025-07-18  301567.SZ      0.002976\n",
       "2025-07-18  688182.SH      0.001375\n",
       "\n",
       "[13428 rows x 2 columns]"
      ]
     },
     "execution_count": 126,
     "metadata": {},
     "output_type": "execute_result"
    }
   ],
   "source": [
    "grouped"
   ]
  },
  {
   "cell_type": "code",
   "execution_count": 96,
   "id": "366fd5b6-18e2-4745-9d4f-d29a3a64f20b",
   "metadata": {
    "tags": []
   },
   "outputs": [],
   "source": [
    "def Kline_data_extract(df):\n",
    "    ans = pd.DataFrame(0,index = range(6),columns = ['open','close','high','low'])\n",
    "    count = 0\n",
    "    for _,row in df.iterrows():\n",
    "        time = _\n",
    "        stock_id = row['stock_id']\n",
    "        tem_df = shared_table[shared_table['stock_id'] == stock_id].pivot(values = 'value',index = 'time',columns = 'indicator')\n",
    "        tem_df = tem_df.sort_index()\n",
    "        num_idx = tem_df.index.get_loc(time)\n",
    "        if num_idx + 6 > len(tem_df):\n",
    "            continue\n",
    "        basic_price = tem_df.iloc[num_idx]['open']\n",
    "        ss = tem_df.iloc[num_idx:num_idx + 6][['open','close','high','low']].reset_index(drop = True) / basic_price\n",
    "        if ss.isna().any().any():\n",
    "            continue\n",
    "        else:\n",
    "            ans += ss\n",
    "            count += 1\n",
    "    return ans / count"
   ]
  },
  {
   "cell_type": "code",
   "execution_count": 97,
   "id": "cd5b33ba-a8f0-409d-855a-b73ec63e78f1",
   "metadata": {
    "tags": []
   },
   "outputs": [
    {
     "data": {
      "text/html": [
       "<div>\n",
       "<style scoped>\n",
       "    .dataframe tbody tr th:only-of-type {\n",
       "        vertical-align: middle;\n",
       "    }\n",
       "\n",
       "    .dataframe tbody tr th {\n",
       "        vertical-align: top;\n",
       "    }\n",
       "\n",
       "    .dataframe thead th {\n",
       "        text-align: right;\n",
       "    }\n",
       "</style>\n",
       "<table border=\"1\" class=\"dataframe\">\n",
       "  <thead>\n",
       "    <tr style=\"text-align: right;\">\n",
       "      <th></th>\n",
       "      <th>open</th>\n",
       "      <th>close</th>\n",
       "      <th>high</th>\n",
       "      <th>low</th>\n",
       "    </tr>\n",
       "  </thead>\n",
       "  <tbody>\n",
       "    <tr>\n",
       "      <th>0</th>\n",
       "      <td>1.000000</td>\n",
       "      <td>1.015352</td>\n",
       "      <td>1.021307</td>\n",
       "      <td>0.991031</td>\n",
       "    </tr>\n",
       "    <tr>\n",
       "      <th>1</th>\n",
       "      <td>1.014060</td>\n",
       "      <td>1.013620</td>\n",
       "      <td>1.026043</td>\n",
       "      <td>1.005078</td>\n",
       "    </tr>\n",
       "    <tr>\n",
       "      <th>2</th>\n",
       "      <td>1.009640</td>\n",
       "      <td>1.021642</td>\n",
       "      <td>1.030501</td>\n",
       "      <td>0.997938</td>\n",
       "    </tr>\n",
       "    <tr>\n",
       "      <th>3</th>\n",
       "      <td>1.022256</td>\n",
       "      <td>1.030686</td>\n",
       "      <td>1.036333</td>\n",
       "      <td>1.014280</td>\n",
       "    </tr>\n",
       "    <tr>\n",
       "      <th>4</th>\n",
       "      <td>1.025539</td>\n",
       "      <td>1.009913</td>\n",
       "      <td>1.037771</td>\n",
       "      <td>1.004808</td>\n",
       "    </tr>\n",
       "    <tr>\n",
       "      <th>5</th>\n",
       "      <td>1.016588</td>\n",
       "      <td>1.028114</td>\n",
       "      <td>1.036734</td>\n",
       "      <td>1.014209</td>\n",
       "    </tr>\n",
       "  </tbody>\n",
       "</table>\n",
       "</div>"
      ],
      "text/plain": [
       "       open     close      high       low\n",
       "0  1.000000  1.015352  1.021307  0.991031\n",
       "1  1.014060  1.013620  1.026043  1.005078\n",
       "2  1.009640  1.021642  1.030501  0.997938\n",
       "3  1.022256  1.030686  1.036333  1.014280\n",
       "4  1.025539  1.009913  1.037771  1.004808\n",
       "5  1.016588  1.028114  1.036734  1.014209"
      ]
     },
     "execution_count": 97,
     "metadata": {},
     "output_type": "execute_result"
    }
   ],
   "source": [
    "Kline_data_extract(grouped.iloc[0:10])"
   ]
  },
  {
   "cell_type": "code",
   "execution_count": 110,
   "id": "5a6e2079-c1ad-4f65-bc7b-3c908fb95dd5",
   "metadata": {
    "tags": []
   },
   "outputs": [],
   "source": [
    "def process_single_stock(row):\n",
    "    \"\"\"\n",
    "    处理单只股票的子函数（访问全局shared_table）\n",
    "    参数:\n",
    "    - row: df中的一行数据（索引为time，含stock_id列）\n",
    "    返回:\n",
    "    - 标准化后的6根K线数据（DataFrame）或None（无效数据）\n",
    "    \"\"\"\n",
    "    time = row.name  # 时间取自行索引（原代码中的time = _）\n",
    "    stock_id = row['stock_id']\n",
    "    \n",
    "    # 提取该股票的数据\n",
    "    try:\n",
    "        tem_df = shared_table[shared_table['stock_id'] == stock_id].pivot(\n",
    "            values='value', index='time', columns='indicator'\n",
    "        )\n",
    "    except KeyError:\n",
    "        return None  # 缺少必要列，返回无效\n",
    "    \n",
    "    # 排序并检查时间是否存在\n",
    "    tem_df = tem_df.sort_index()\n",
    "    if time not in tem_df.index:\n",
    "        return None\n",
    "    \n",
    "    # 定位时间索引并检查是否有足够的K线\n",
    "    try:\n",
    "        num_idx = tem_df.index.get_loc(time)\n",
    "    except KeyError:\n",
    "        return None\n",
    "    if num_idx + 6 > len(tem_df):\n",
    "        return None\n",
    "    \n",
    "    # 计算标准化K线（除以基准价）\n",
    "    basic_price = tem_df.iloc[num_idx]['open']\n",
    "    if basic_price == 0:  # 避免除零错误\n",
    "        return None\n",
    "    ss = tem_df.iloc[num_idx:num_idx+6][['open', 'close', 'high', 'low']].reset_index(drop=True)\n",
    "    ss = ss / basic_price\n",
    "    \n",
    "    # 检查是否有缺失值\n",
    "    if ss.isna().any().any():\n",
    "        return None\n",
    "    return ss\n",
    "\n",
    "def Kline_data_extract(df):\n",
    "    \"\"\"多进程提取K线数据（模仿stock_process的调用风格）\"\"\"\n",
    "    # 准备任务列表：df中的每行作为一个任务\n",
    "    task_list = [row for _, row in df.iterrows()]\n",
    "    \n",
    "    # 使用进程池并行处理\n",
    "    with Pool(64) as p:\n",
    "        # 用tqdm显示进度，imap迭代处理任务\n",
    "        res_lst = list(tqdm(\n",
    "            p.imap(process_single_stock, task_list),\n",
    "            total=len(task_list),\n",
    "            desc=\"Processing Kline Data\"\n",
    "        ))\n",
    "    \n",
    "    # 汇总有效结果\n",
    "    ans = pd.DataFrame(0.0, index=range(6), columns=['open', 'close', 'high', 'low'])\n",
    "    count = 0\n",
    "    for ss in res_lst:\n",
    "        if ss is not None:\n",
    "            ans += ss\n",
    "            count += 1\n",
    "    \n",
    "    return ans / count if count > 0 else ans"
   ]
  },
  {
   "cell_type": "code",
   "execution_count": 113,
   "id": "d0168a7a-35ff-40db-aaf0-7cce5c0a7038",
   "metadata": {
    "tags": []
   },
   "outputs": [
    {
     "name": "stderr",
     "output_type": "stream",
     "text": [
      "Processing Kline Data: 100%|██████████████████████████████████████████████| 13428/13428 [17:12<00:00, 13.00it/s]\n"
     ]
    }
   ],
   "source": [
    "Kline_data = Kline_data_extract(grouped)"
   ]
  },
  {
   "cell_type": "code",
   "execution_count": 114,
   "id": "1fb80b2b-4884-4494-ad06-c96d7f5b27f9",
   "metadata": {
    "tags": []
   },
   "outputs": [
    {
     "data": {
      "text/html": [
       "<div>\n",
       "<style scoped>\n",
       "    .dataframe tbody tr th:only-of-type {\n",
       "        vertical-align: middle;\n",
       "    }\n",
       "\n",
       "    .dataframe tbody tr th {\n",
       "        vertical-align: top;\n",
       "    }\n",
       "\n",
       "    .dataframe thead th {\n",
       "        text-align: right;\n",
       "    }\n",
       "</style>\n",
       "<table border=\"1\" class=\"dataframe\">\n",
       "  <thead>\n",
       "    <tr style=\"text-align: right;\">\n",
       "      <th></th>\n",
       "      <th>open</th>\n",
       "      <th>close</th>\n",
       "      <th>high</th>\n",
       "      <th>low</th>\n",
       "    </tr>\n",
       "  </thead>\n",
       "  <tbody>\n",
       "    <tr>\n",
       "      <th>0</th>\n",
       "      <td>1.000000</td>\n",
       "      <td>1.011734</td>\n",
       "      <td>1.030516</td>\n",
       "      <td>0.985863</td>\n",
       "    </tr>\n",
       "    <tr>\n",
       "      <th>1</th>\n",
       "      <td>1.011068</td>\n",
       "      <td>1.012355</td>\n",
       "      <td>1.033451</td>\n",
       "      <td>0.991557</td>\n",
       "    </tr>\n",
       "    <tr>\n",
       "      <th>2</th>\n",
       "      <td>1.011528</td>\n",
       "      <td>1.013018</td>\n",
       "      <td>1.033772</td>\n",
       "      <td>0.992476</td>\n",
       "    </tr>\n",
       "    <tr>\n",
       "      <th>3</th>\n",
       "      <td>1.012454</td>\n",
       "      <td>1.013988</td>\n",
       "      <td>1.035227</td>\n",
       "      <td>0.993036</td>\n",
       "    </tr>\n",
       "    <tr>\n",
       "      <th>4</th>\n",
       "      <td>1.013388</td>\n",
       "      <td>1.014403</td>\n",
       "      <td>1.035863</td>\n",
       "      <td>0.993597</td>\n",
       "    </tr>\n",
       "    <tr>\n",
       "      <th>5</th>\n",
       "      <td>1.013562</td>\n",
       "      <td>1.014456</td>\n",
       "      <td>1.035604</td>\n",
       "      <td>0.994079</td>\n",
       "    </tr>\n",
       "  </tbody>\n",
       "</table>\n",
       "</div>"
      ],
      "text/plain": [
       "       open     close      high       low\n",
       "0  1.000000  1.011734  1.030516  0.985863\n",
       "1  1.011068  1.012355  1.033451  0.991557\n",
       "2  1.011528  1.013018  1.033772  0.992476\n",
       "3  1.012454  1.013988  1.035227  0.993036\n",
       "4  1.013388  1.014403  1.035863  0.993597\n",
       "5  1.013562  1.014456  1.035604  0.994079"
      ]
     },
     "execution_count": 114,
     "metadata": {},
     "output_type": "execute_result"
    }
   ],
   "source": [
    "Kline_data"
   ]
  },
  {
   "cell_type": "code",
   "execution_count": 115,
   "id": "b9e9eed4-51f7-4b96-a760-0e2efe9ccd15",
   "metadata": {
    "tags": []
   },
   "outputs": [],
   "source": [
    "def depict_Kline(df,label):\n",
    "    '''\n",
    "    ##绘制k线图\n",
    "    ##输入：DataFrame  index是日期（0-5） column是高开低收\n",
    "    ##输出：画出每一天的k线图\n",
    "    '''\n",
    "    \n",
    "    fig, ax = plt.subplots(figsize=(10, 6))\n",
    "    \n",
    "    # 计算K线实体高度和影线长度\n",
    "    df['body'] = abs(df['close'] - df['open'])\n",
    "    df['upper_shadow'] = df['high'] - df[['open', 'close']].max(axis=1)\n",
    "    df['lower_shadow'] = df[['open', 'close']].min(axis=1) - df['low']\n",
    "    \n",
    "    # 设置涨跌颜色（红色表示上涨，绿色表示下跌）\n",
    "    colors = ['red' if close >= open else 'green' for close, open in zip(df['close'], df['open'])]\n",
    "    \n",
    "    # 绘制K线\n",
    "    for i, (index, row) in enumerate(df.iterrows()):\n",
    "        # 使用索引作为X坐标\n",
    "        x_pos = index\n",
    "        \n",
    "        # 绘制实体\n",
    "        ax.bar(\n",
    "            x_pos, row['body'], \n",
    "            bottom=min(row['open'], row['close']), \n",
    "            width=0.6, color=colors[i], alpha=0.8\n",
    "        )\n",
    "        \n",
    "        # 绘制上影线和下影线\n",
    "        ax.plot([x_pos, x_pos], \n",
    "                [row['high'], max(row['open'], row['close'])], \n",
    "                color='black', linewidth=1)\n",
    "        ax.plot([x_pos, x_pos], \n",
    "                [min(row['open'], row['close']), row['low']], \n",
    "                color='black', linewidth=1)\n",
    "    \n",
    "    # 设置X轴刻度为索引值\n",
    "    ax.set_xticks(df.index)\n",
    "    \n",
    "    # 添加网格线\n",
    "    ax.grid(True, linestyle='--', alpha=0.7)\n",
    "    \n",
    "    # 设置标题和标签\n",
    "    ax.set_title('K线图', fontsize=16)\n",
    "    ax.set_xlabel('交易日', fontsize=12)\n",
    "    ax.set_ylabel('价格', fontsize=12)\n",
    "    \n",
    "    # 添加图例\n",
    "    from matplotlib.patches import Patch\n",
    "    legend_elements = [\n",
    "        Patch(facecolor='red', edgecolor='black', label='上涨'),\n",
    "        Patch(facecolor='green', edgecolor='black', label='下跌')\n",
    "    ]\n",
    "    ax.legend(handles = legend_elements, loc='upper left')\n",
    "    plt.gca().legend([label])\n",
    "    # 调整布局\n",
    "    plt.tight_layout()\n",
    "    \n",
    "    return fig, ax"
   ]
  },
  {
   "cell_type": "code",
   "execution_count": 117,
   "id": "d0f7e229-b594-4f6a-acc4-b1ad4ec0e65e",
   "metadata": {
    "tags": []
   },
   "outputs": [
    {
     "data": {
      "text/plain": [
       "(<Figure size 1000x600 with 1 Axes>,\n",
       " <Axes: title={'center': 'K线图'}, xlabel='交易日', ylabel='价格'>)"
      ]
     },
     "execution_count": 117,
     "metadata": {},
     "output_type": "execute_result"
    },
    {
     "data": {
      "image/png": "[encoded data removed]",
      "text/plain": [
       "<Figure size 1000x600 with 1 Axes>"
      ]
     },
     "metadata": {},
     "output_type": "display_data"
    }
   ],
   "source": [
    "depict_Kline(Kline_data,1)"
   ]
  },
  {
   "cell_type": "code",
   "execution_count": 122,
   "id": "7d904f01-27ed-4252-9f7f-0d4ecc5f1b86",
   "metadata": {
    "tags": []
   },
   "outputs": [],
   "source": [
    "def ret_data():\n",
    "    close_data = pd.read_pickle(\"/mydata2/wangs/data/fmins/close.pk\")\n",
    "    pre_close_data = close_data.shift(1)\n",
    "    ret_data = (close_data - pre_close_data) / pre_close_data\n",
    "    ret_data.index = pd.to_datetime(ret_data.index)\n",
    "    return ret_data"
   ]
  },
  {
   "cell_type": "code",
   "execution_count": 123,
   "id": "b669bdb6-69b1-4237-bbc0-fc217860f81b",
   "metadata": {
    "tags": []
   },
   "outputs": [],
   "source": [
    "return_data = ret_data()\n",
    "GLOBAL_RETURN_DATA = return_data"
   ]
  },
  {
   "cell_type": "code",
   "execution_count": 145,
   "id": "0203b8af-1eb1-4848-a082-dcab8a91f210",
   "metadata": {
    "tags": []
   },
   "outputs": [],
   "source": [
    "global GLOBAL_RETURN_DATA\n",
    "\n",
    "def minute_data_extract_single(row):\n",
    "    \"\"\"处理单只股票的分钟数据（修正版）\"\"\"\n",
    "    global GLOBAL_RETURN_DATA  # 访问全局数据\n",
    "    \n",
    "    # 初始化结果（6天*240分钟=1440个数据点）\n",
    "    result = pd.Series(0.0, index=range(240*6))\n",
    "    valid_count = 0  # 单只股票的有效计数（此处实际为1或0，因单条记录）\n",
    "    \n",
    "    try:\n",
    "        # 提取股票ID和日期（日期取自行索引）\n",
    "        stock_id = row['stock_id']\n",
    "        break_date = row.name  # 假设index是日期\n",
    "        # 计算起始时间（break_date的9:31）\n",
    "        start_time = break_date.replace(hour=9, minute=31, second=0, microsecond=0)\n",
    "        \n",
    "        # 检查起始时间是否存在\n",
    "        if start_time not in GLOBAL_RETURN_DATA.index:\n",
    "            return None  # 替代continue（函数中不能用continue）\n",
    "        \n",
    "        # 计算结束索引（240*6个数据点）\n",
    "        start_idx = GLOBAL_RETURN_DATA.index.get_loc(start_time)\n",
    "        end_idx = start_idx + 240*6 - 1  # 闭区间，共1440个点\n",
    "        if end_idx >= len(GLOBAL_RETURN_DATA):\n",
    "            return None  # 数据不足\n",
    "        \n",
    "        # 提取切片数据（股票ID对应的列）\n",
    "        slice_data = GLOBAL_RETURN_DATA.iloc[start_idx:end_idx+1, GLOBAL_RETURN_DATA.columns.get_loc(stock_id)].copy()\n",
    "        \n",
    "        # 验证数据完整性（长度正确且无缺失）\n",
    "        if len(slice_data) != 240*6 or slice_data.isna().any():\n",
    "            return None\n",
    "        \n",
    "        # 有效数据：直接赋值（单条记录，valid_count=1）\n",
    "        result = slice_data.reset_index(drop=True)\n",
    "        valid_count = 1\n",
    "        \n",
    "    except (KeyError, ValueError, AttributeError) as e:\n",
    "        # 捕获列不存在、索引错误等异常\n",
    "        return None\n",
    "    \n",
    "    # 返回有效结果（或None）\n",
    "    return result if valid_count > 0 else None\n",
    "\n",
    "def minute_data_extract(df):\n",
    "    \"\"\"多进程提取分钟数据并汇总平均值\"\"\"\n",
    "    # 准备任务列表：df的每行作为一个任务\n",
    "    task_list = [row for _, row in df.iterrows()]\n",
    "    \n",
    "    # 多进程处理（使用64进程）\n",
    "    with mp.Pool(64) as p:\n",
    "        # 用tqdm显示进度\n",
    "        res_lst = list(tqdm(\n",
    "            p.imap(minute_data_extract_single, task_list),\n",
    "            total=len(task_list),\n",
    "            desc=\"Processing Minute Data\"\n",
    "        ))\n",
    "    \n",
    "    # 汇总有效结果（初始化与单条结果同长度的Series）\n",
    "    ans = pd.Series(0.0, index=range(240*6))  # 修正索引长度：240*6\n",
    "    count = 0\n",
    "    \n",
    "    for ss in res_lst:\n",
    "        if ss is not None:  # 只累加有效结果\n",
    "            ans += ss\n",
    "            count += 1\n",
    "    # 计算平均值（避免除零）\n",
    "    return ans / count if count > 0 else ans\n",
    "\n",
    "\n"
   ]
  },
  {
   "cell_type": "code",
   "execution_count": 146,
   "id": "d44dfd8b-0d18-4150-b806-3e5b564d4b4e",
   "metadata": {
    "tags": []
   },
   "outputs": [
    {
     "name": "stderr",
     "output_type": "stream",
     "text": [
      "Processing Minute Data: 100%|███████████████████████████████████████████| 13428/13428 [00:03<00:00, 3805.10it/s]\n"
     ]
    }
   ],
   "source": [
    "md = minute_data_extract(grouped)"
   ]
  },
  {
   "cell_type": "code",
   "execution_count": 147,
   "id": "211fc8cd-5553-4b10-93fb-9e63a0fc6c01",
   "metadata": {
    "tags": []
   },
   "outputs": [],
   "source": [
    "def plot_minute_return_curve(return_series, title=\"6天分钟级累计收益曲线\", figsize=(12, 6)):\n",
    "    \"\"\"\n",
    "    绘制6天（1440分钟）的累计收益曲线，仅显示分钟序号和累计收益率\n",
    "    \n",
    "    参数:\n",
    "    return_series: pd.Series，长度为1440的分钟级收益率数据\n",
    "    title: 图表标题\n",
    "    figsize: 图表尺寸\n",
    "    \"\"\"\n",
    "    # 检查数据长度（6天×240分钟=1440）\n",
    "    if len(return_series) != 1440:\n",
    "        raise ValueError(f\"输入数据长度必须为1440（6天×240分钟），当前为{len(return_series)}\")\n",
    "    \n",
    "    # 计算累计收益率（从0开始）\n",
    "    cumulative_return = (1 + return_series).cumprod() - 1\n",
    "    \n",
    "    # 创建分钟序号索引（0-1439）\n",
    "    minute_index = np.arange(1440)\n",
    "    \n",
    "    # 创建画布\n",
    "    plt.figure(figsize=figsize)\n",
    "    ax = plt.gca()\n",
    "    \n",
    "    # 绘制累计收益曲线\n",
    "    ax.plot(\n",
    "        minute_index,\n",
    "        cumulative_return,\n",
    "        color=\"#2c7fb8\",\n",
    "        linewidth=1.2,\n",
    "        label=\"累计收益率\"\n",
    "    )\n",
    "    \n",
    "    # 每天分隔线（第240、480、720、960、1200分钟处）\n",
    "    for day in range(1, 6):\n",
    "        ax.axvline(\n",
    "            x=day * 240,\n",
    "            color=\"gray\",\n",
    "            linestyle=\"--\",\n",
    "            alpha=0.5,\n",
    "            label=\"每天分隔线\" if day == 1 else \"\"  # 仅第一个分隔线显示标签\n",
    "        )\n",
    "    \n",
    "    # 坐标轴设置\n",
    "    ax.set_xlabel(\"分钟序号（0-1439）\", fontsize=10)\n",
    "    ax.set_ylabel(\"累计收益率\", fontsize=10)\n",
    "    ax.set_title(title, fontsize=12, pad=20)\n",
    "    \n",
    "    # x轴刻度按天显示（每天240分钟）\n",
    "    ax.set_xticks([i * 240 for i in range(7)])\n",
    "    ax.set_xticklabels([f\"第{i}天\" for i in range(7)])  # 0-6对应6天的起点\n",
    "    \n",
    "    # 网格和图例\n",
    "    ax.grid(linestyle=\"--\", alpha=0.5)\n",
    "    ax.legend(loc=\"best\")\n",
    "    \n",
    "    plt.tight_layout()\n",
    "    return plt.gcf()"
   ]
  },
  {
   "cell_type": "code",
   "execution_count": 148,
   "id": "912e0e46-f7ff-4f54-bef9-d1da7dde1cf4",
   "metadata": {
    "tags": []
   },
   "outputs": [
    {
     "data": {
      "image/png": "[encoded data removed]",
      "text/plain": [
       "<Figure size 1200x600 with 1 Axes>"
      ]
     },
     "execution_count": 148,
     "metadata": {},
     "output_type": "execute_result"
    },
    {
     "data": {
      "image/png": "[encoded data removed]",
      "text/plain": [
       "<Figure size 1200x600 with 1 Axes>"
      ]
     },
     "metadata": {},
     "output_type": "display_data"
    }
   ],
   "source": [
    "plot_minute_return_curve(md)"
   ]
  }
 ],
 "metadata": {
  "kernelspec": {
   "display_name": "Python 3 (ipykernel)",
   "language": "python",
   "name": "python3"
  },
  "language_info": {
   "codemirror_mode": {
    "name": "ipython",
    "version": 3
   },
   "file_extension": ".py",
   "mimetype": "text/x-python",
   "name": "python",
   "nbconvert_exporter": "python",
   "pygments_lexer": "ipython3",
   "version": "3.9.16"
  }
 },
 "nbformat": 4,
 "nbformat_minor": 5
}
